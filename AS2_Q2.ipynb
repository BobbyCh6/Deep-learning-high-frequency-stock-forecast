{
  "nbformat": 4,
  "nbformat_minor": 0,
  "metadata": {
    "colab": {
      "name": "AS2 part 2 final.ipynb",
      "provenance": [],
      "collapsed_sections": []
    },
    "kernelspec": {
      "name": "python3",
      "display_name": "Python 3"
    },
    "language_info": {
      "name": "python"
    },
    "accelerator": "GPU"
  },
  "cells": [
    {
      "cell_type": "code",
      "execution_count": 2,
      "metadata": {
        "id": "bhnftgwDFPIq"
      },
      "outputs": [],
      "source": [
        "import os\n",
        "import re\n",
        "import random\n",
        "import sys\n",
        "import numpy as np\n",
        "import matplotlib.pyplot as plt\n",
        "import tensorflow as tf\n",
        "from keras.models import Sequential\n",
        "from keras.layers import Embedding, Dense, LSTM, Dropout, Flatten\n",
        "from keras.models import load_model\n",
        "from keras.utils import np_utils\n",
        "from keras.callbacks import ModelCheckpoint"
      ]
    },
    {
      "cell_type": "markdown",
      "source": [
        "## 2.1 Data preprocessing"
      ],
      "metadata": {
        "id": "-TQEOsK-tP0b"
      }
    },
    {
      "cell_type": "code",
      "source": [
        "# Read file - wonderland.txt\n",
        "os.chdir('/content/drive/MyDrive/ST456-data')\n",
        "filename = 'Alice.txt'\n",
        "data = open(filename, 'r')\n",
        "data = data.read().lower()\n",
        "print ('Length of the original data: ' + str(len(data)))\n",
        "data = re.sub('[^A-Za-z]+', ' ', data)\n",
        "print ('Length of the clean data: ' + str(len(data)))\n",
        "\n",
        "# Find unique characters in the data\n",
        "chars = sorted(list(set(data)))\n",
        "print ('Number of unique charaters in the data: ' + str(len(chars)))"
      ],
      "metadata": {
        "id": "KqHv1UIpFRX6",
        "colab": {
          "base_uri": "https://localhost:8080/"
        },
        "outputId": "3b26a026-81b5-4e06-9799-9442ecdbbc36"
      },
      "execution_count": 3,
      "outputs": [
        {
          "output_type": "stream",
          "name": "stdout",
          "text": [
            "Length of the original data: 164047\n",
            "Length of the clean data: 154171\n",
            "Number of unique charaters in the data: 27\n"
          ]
        }
      ]
    },
    {
      "cell_type": "markdown",
      "source": [
        "Build two direction dictionary"
      ],
      "metadata": {
        "id": "V3dTsuAVRx0g"
      }
    },
    {
      "cell_type": "code",
      "source": [
        "# Map characters to integers\n",
        "char_to_integer = []\n",
        "for integer, char in enumerate(chars):\n",
        "    char_to_integer.append((char, integer))\n",
        "char_to_integer = dict(char_to_integer)\n",
        "#print (char_to_integer)\n",
        "\n",
        "# map integers to characters\n",
        "integer_to_char = []\n",
        "for integer, char in enumerate(chars):\n",
        "    integer_to_char.append((integer, char))\n",
        "integer_to_char = dict(integer_to_char)\n",
        "#print (integer_to_char)"
      ],
      "metadata": {
        "id": "DzS2poxYFRSa"
      },
      "execution_count": 4,
      "outputs": []
    },
    {
      "cell_type": "markdown",
      "source": [
        "Generate features and lables"
      ],
      "metadata": {
        "id": "HZT7PvrSua3i"
      }
    },
    {
      "cell_type": "code",
      "source": [
        "# Convert X(sequence) and y(one character) into integers\n",
        "X_train = []\n",
        "y_train = []\n",
        "length_of_sequence = 50\n",
        "for i in range(0, (len(data) - length_of_sequence)):\n",
        "    sequence = data[i:i+length_of_sequence]\n",
        "    sequence_int = []\n",
        "    for char in sequence:\n",
        "        sequence_int.append(char_to_integer[char])\n",
        "    X_train.append(sequence_int)    \n",
        "    label = data[i+length_of_sequence]\n",
        "    y_train.append(char_to_integer[label])\n",
        "\n",
        "# One-hot encoding\n",
        "X=np.array(X_train)\n",
        "y=np.array(y_train)\n",
        "fts = np_utils.to_categorical(X)\n",
        "lbl = np_utils.to_categorical(y)\n"
      ],
      "metadata": {
        "id": "nNhswQmerPlt"
      },
      "execution_count": 5,
      "outputs": []
    },
    {
      "cell_type": "markdown",
      "source": [
        "##2.2 Neural network implementation and summary"
      ],
      "metadata": {
        "id": "OfNQfr6H_rqh"
      }
    },
    {
      "cell_type": "code",
      "source": [
        "model0 = Sequential()\n",
        "model0.add(Embedding(input_dim=27, output_dim=256))\n",
        "model0.add(LSTM(1024, input_shape=(50,27)))\n",
        "model0.add(Dense(27, activation = 'softmax'))\n",
        "\n",
        "model0.summary()"
      ],
      "metadata": {
        "id": "1AQa50rvzrQ2",
        "colab": {
          "base_uri": "https://localhost:8080/"
        },
        "outputId": "2b37a1a0-7770-419e-f3cb-3e6103e477a2"
      },
      "execution_count": 6,
      "outputs": [
        {
          "output_type": "stream",
          "name": "stdout",
          "text": [
            "Model: \"sequential_1\"\n",
            "_________________________________________________________________\n",
            " Layer (type)                Output Shape              Param #   \n",
            "=================================================================\n",
            " embedding (Embedding)       (None, None, 256)         6912      \n",
            "                                                                 \n",
            " lstm_1 (LSTM)               (None, 1024)              5246976   \n",
            "                                                                 \n",
            " dense_1 (Dense)             (None, 27)                27675     \n",
            "                                                                 \n",
            "=================================================================\n",
            "Total params: 5,281,563\n",
            "Trainable params: 5,281,563\n",
            "Non-trainable params: 0\n",
            "_________________________________________________________________\n"
          ]
        }
      ]
    },
    {
      "cell_type": "markdown",
      "source": [
        "##2.3 Training and evaluation"
      ],
      "metadata": {
        "id": "H4skhfxF_wAv"
      }
    },
    {
      "cell_type": "markdown",
      "source": [
        "From the result and the plot, we can see the categorical cross entropy loss decreases with the epochs, and maintains around 1.5 in the end. \n",
        "\n",
        "The accuracy increase with the training, and finally arrives at 51%."
      ],
      "metadata": {
        "id": "hTKsMq9UBybG"
      }
    },
    {
      "cell_type": "code",
      "source": [
        "model = Sequential()\n",
        "model.add(Embedding(input_dim=27, output_dim=256))\n",
        "model.add(LSTM(1024,kernel_initializer='glorot_uniform', stateful=True, return_sequence=True))\n",
        "model.add(Dense(27, activation = 'softmax'))\n",
        "\n",
        "model.compile(loss = 'categorical_crossentropy', optimizer = tf.optimizers.Adam(learning_rate=0.01), metrics = ['accuracy'])\n",
        "history = model.fit(fts, lbl, epochs=50, verbose=0, shuffle=True, batch_size=64)\n",
        "loss, accuracy = model.evaluate(fts, lbl)"
      ],
      "metadata": {
        "id": "IXFCEohs4XEg"
      },
      "execution_count": null,
      "outputs": []
    },
    {
      "cell_type": "code",
      "source": [
        "plt.title('Cross Entropy Loss')\n",
        "plt.plot(history.history['loss'], color='b', label=\"Training Loss\")\n",
        "plt.legend(loc=\"upper right\")\n",
        "plt.xlabel('Epochs')\n",
        "plt.ylabel('Loss')\n",
        "plt.show()"
      ],
      "metadata": {
        "colab": {
          "base_uri": "https://localhost:8080/",
          "height": 295
        },
        "id": "yFnnhNQeDez-",
        "outputId": "9eba3d20-85cd-49d1-9bb1-802f7f1fbb0d"
      },
      "execution_count": 7,
      "outputs": [
        {
          "output_type": "display_data",
          "data": {
            "text/plain": [
              "<Figure size 432x288 with 1 Axes>"
            ],
            "image/png": "[encoded data removed]"
          },
          "metadata": {
            "needs_background": "light"
          }
        }
      ]
    },
    {
      "cell_type": "markdown",
      "source": [
        "##2.4 Text generation"
      ],
      "metadata": {
        "id": "KpPIAVeV_3MX"
      }
    },
    {
      "cell_type": "markdown",
      "source": [
        "The temperature T can increase the difference between high and low probability results without changing their sequence of magnitude. In other words, this scaling parameter can make the high probability events more probable and low probability events less probable. Using the scaling parameter to adjust the multinomial distribution is a more proper way to sample than both greedy selection which is deterministic and not empirically good, and selecting directly from multinomial distribution which may be too random.\n",
        "\n",
        "The result shows that, when the scaling parameter T is small, the prediction will have limited word scope, which means the output is the repetition of several words. With the increase of T, the word scope becomes larger, the output also makes more sense. When T equals 1.2, the output sentence seems \"readable\".\n",
        "\n",
        "The reason is that when T is small, the scaling effect on the multinomial distribution is strong, the temperature gives extra more weights to the character with higher probability."
      ],
      "metadata": {
        "id": "s8Rk148UFu5m"
      }
    },
    {
      "cell_type": "code",
      "source": [
        "# define the checkpoint\n",
        "filepath = \"model.h5\"\n",
        "checkpoint = ModelCheckpoint(filepath, monitor='loss', verbose=1, save_best_only=True, mode='min', save_freq=5)\n",
        "callbacks_list = [checkpoint]\n"
      ],
      "metadata": {
        "colab": {
          "base_uri": "https://localhost:8080/"
        },
        "id": "scjzb-K8-lw6",
        "outputId": "708fe3ce-ab53-467c-b773-503dccb85f4d"
      },
      "execution_count": 11,
      "outputs": [
        {
          "output_type": "stream",
          "name": "stdout",
          "text": [
            "WARNING:tensorflow:`period` argument is deprecated. Please use `save_freq` to specify the frequency in number of batches seen.\n"
          ]
        }
      ]
    },
    {
      "cell_type": "code",
      "source": [
        "# sample the next character given the model’s predictions\n",
        "def sample(pred, t):\n",
        "   pred = np.asarray(pred).astype('float64')\n",
        "   pred = np.log(pred) / t\n",
        "   exp_pred = np.exp(pred)\n",
        "   pred = exp_pred / np.sum(exp_pred)\n",
        "   prob = np.random.multinomial(1, pred, 1)\n",
        "   return np.argmax(prob)"
      ],
      "metadata": {
        "id": "7gcZXSpEG4Pv"
      },
      "execution_count": 12,
      "outputs": []
    },
    {
      "cell_type": "code",
      "source": [
        "for epoch in range(1, 11):\n",
        "    print(\"\\nepochs\",epoch*5-4,\"--\",epoch*5)\n",
        "    model.fit(fts, lbl, batch_size=64, epochs=5, steps_per_epoch=100)\n",
        "    generated_text = [' ',' ',' ',' ',' ',' ',' ',' ',' ',' ',' ',' ',' ',' ',' ',' ',' ',' ',' ',' ',' ',' ',' ',' ',' ',' ',' ',' ',' ',' ',' ',' ',' ',' ',' ',' ',' ',' ',' ',' ',' ',' ',' ',' ',' ',' ',' ',' ',' ','i']\n",
        "    for t in [0.2, 0.5, 0.8, 1.0, 1.2]:\n",
        "        print('\\n------ temperature:', t)\n",
        "        for i in range(1000):\n",
        "            sampled = np.zeros((1, 50, 27))\n",
        "            for ti, char in enumerate(generated_text):\n",
        "                sampled[0, ti, char_to_integer[char]] = 1.\n",
        "            pred = model.predict(sampled, verbose=0)[0]\n",
        "            next_index = sample(pred, t)\n",
        "            next_char = chars[next_index]\n",
        "            generated_text += next_char\n",
        "            generated_text = generated_text[1:]\n",
        "            sys.stdout.write(next_char)"
      ],
      "metadata": {
        "colab": {
          "base_uri": "https://localhost:8080/"
        },
        "id": "p00EMcXDeLgY",
        "outputId": "7cc76819-3fd5-4fae-88ef-9a37eb9edfe0"
      },
      "execution_count": 13,
      "outputs": [
        {
          "output_type": "stream",
          "name": "stdout",
          "text": [
            "\n",
            "epochs 1 -- 5\n",
            "Epoch 1/5\n",
            "100/100 [==============================] - 8s 78ms/step - loss: 1.4837 - accuracy: 0.5473\n",
            "Epoch 2/5\n",
            "100/100 [==============================] - 8s 81ms/step - loss: 1.4487 - accuracy: 0.5589\n",
            "Epoch 3/5\n",
            "100/100 [==============================] - 8s 76ms/step - loss: 1.4853 - accuracy: 0.5452\n",
            "Epoch 4/5\n",
            "100/100 [==============================] - 8s 77ms/step - loss: 1.4841 - accuracy: 0.5491\n",
            "Epoch 5/5\n",
            "100/100 [==============================] - 8s 79ms/step - loss: 1.4786 - accuracy: 0.5475\n",
            "\n",
            "------ temperature: 0.2\n",
            "n a said the caterpillar and the moreltion in and the mock turtle down the more to see the moreltion and the morelter to see the mock turtle some the morelter in a little said the duchess and she said the more to she said the moreltered to said the caterpillar and the mock turtle said the more to the moreltered the morelter in a little cares in and the more to see to said the morelte in and the more to she was and she said the more to she was and the more to the moreltered the pareone and she said the morelt the moreltered the moreltered to said the more to the moreltered in and she said the dormouse the morelt the mock turtle said the mock turtle said the mouse the moreltered the moreltered in a little said the more to said the moment the moment to see the moment the morelt they gon the caterpillar of the rabbit said the mock turtle said the more to said the caterpillar and she was and the more to she was and the parean in and the morelter the mock turtle some the moment and the morel\n",
            "------ temperature: 0.5\n",
            "ter any as in the queen they said to see poor lived and that she cauld it in the other and very more the queen it sollands in her on your any not in and was and she i ve to said the coust be and was one on the mock turtle to said the end thought and and things of in the rabbit as she had been the ballen so the mock turtle she sime to the queen for the morse and a said to to stean to see said i thought to the way in the two said the mortation lase she said the queen i she in a little birely in a cares and out it on in and she oop was voice and she was so said they word all the dade take to to be much on stall as she caner in it and work to be to i when the queen reatly in a said the and be than the moment and in and she said the queen to be the goon the duchess of the dormouse to the work in a stalls tone on she said they and more to some of the baby take in a could be thought to so said alice voice of the dormouse the bank to the dirmouse then said the mock turtle they said to i though\n",
            "------ temperature: 0.8\n",
            "t solice to the langen any prived are so said they court and said alice donien tirely she said they gever ense in a was in all said to head a lange to be on still a such what her liston a may said to reatran the rabbit any porestion could be thought then work hadn t baby was and is he to bling was one to make that with the queet implated it s very said the morel berigh i llings and the queen rook than so litele dound old she was very such alice tremed to must tary said the careone she caterpelt is lase tirely to be like to hurrelare with as she ssee come turte i can the curious bill and hased the shighthe usself to the porrouse i dan they don t cutions and after she itrablited it would said to ence e they all i work pizzling round then they a doime in fetm but a langered as play really to be from a chosi and the onher then at lawseed alice partant in and you arn time and she ket said the project gutenberg impe in a cate be when in a fanch very said the poorule down of i ve said to s yo\n",
            "------ temperature: 1.0\n",
            "urce unotheren takn twinklibuce such and ofemprile how see an reing it s or the moment to she sablits efuition court bubisselab insied weres she had tank woolemare if your about tikely rocked to learler lyestent who lony stold said slappnee teven us very trouble seew now to thought at and now notily contacily your pigson the plaeesly i liter alice as she bary soop tunter a vonte incationing voicenily carrose buth sea and veraas medsed and to be instintily that i notily whate questerre in timition in is bright was been hasd bagan jumpist reneath was notocture replielse countey turne or but to you mederselath piraling knever they can t very sind you garniny itwny frum theything llakes grown to you could notily a pappore to go if yearpelively your thain and inyod next to the pattiry indesain swom inee very song lake word well anversaily in and she is siden i like saringesting as herse if impleinusing regillings west in knead i lloweth appeeve seven its coulanieds toums it mught the talkin\n",
            "------ temperature: 1.2\n",
            "g nosaiced indimplen without ing trould given anttonimefinniness i dining aye it threu i sageing traicupion but some and then the curly tree as more a nexe taig they weuse is in and mey very she yuwn i madify to noging grivmen and the twey on es theyll speelys  lsuld court segrve goking of thee thus propituly go s it sormouse voirt elas cought to works nnow t karge inclher was nothing of beliensians ady troeat in digenmpallened inusseify away over e arzatenticeecthing anciedsaces trmaking and dunily voiimed butacrever as them tmill deally cut i my she could in ow in whysquite trwary gon and yesvey whete in way a cate i ingilearms with thenn treection to speak ragly anxifuling alounte onceata heed that last agaienmark this iffenwing to tried inetious snyirsed to salsucknol doom on woy when and loce satcending if i out huld wa thinks with glasdy in doime ifford bouth any as malibyly upon of gigging to dake non tome us again rean ting your h wow make and miggi gurneas ingots topyreepbalk \n",
            "epochs 6 -- 10\n",
            "Epoch 1/5\n",
            "100/100 [==============================] - 8s 76ms/step - loss: 1.4354 - accuracy: 0.5573\n",
            "Epoch 2/5\n",
            "100/100 [==============================] - 7s 74ms/step - loss: 1.4489 - accuracy: 0.5533\n",
            "Epoch 3/5\n",
            "100/100 [==============================] - 7s 74ms/step - loss: 1.4186 - accuracy: 0.5666\n",
            "Epoch 4/5\n",
            "100/100 [==============================] - 7s 74ms/step - loss: 1.4566 - accuracy: 0.5536\n",
            "Epoch 5/5\n",
            "100/100 [==============================] - 7s 74ms/step - loss: 1.4247 - accuracy: 0.5645\n",
            "\n",
            "------ temperature: 0.2\n",
            "t the poor alice and the for the pacted it the mock turtle so she was her can t kear in the poor could her could and the partance of the poor alice the mock turtle said the king the pence the poor alice the poor alice the mock turtle said the mock turtle said the fince she wanter when she was the poor alice she was in the pacter it was and the poor alice she was she was she was for she was the mock turtle said the mock turtle said the mock turtle so not could con t said the mock turtle said the poor alice she was for she was not could her can t said the gryphon and the penter and the mock turtle said the mock turtle said the mock turtle said the poor alice she was the queen the panter in the pacted and the mock turtle said the mock turtle said the pachon the poor alice said the mock turtle said the cance of the mock turtle said the mock turtle said the mock turtle said the mock turtle said the canch it was in the pence the perpon the panter and the mock turtle said the mock turtle said\n",
            "------ temperature: 0.5\n",
            " the lart the mock turtle she went on the laby the only and not could when a little dish a really the most so not could the mock turtle seemed the project gutenberg tm conter and when i chould the mock turtle to the queen just pigighat he for she was not the cat make the mock turtle so not said the list and it was not her and come head when you head there were on you some to she the fisthing the hatter then could be for the poor little disth the pertatifued the larther they rest alice it was then and really really and down a countas at alice said the matching of the putter and that it was they her child in a little list a little sing in when she said the ather she was it off and she was to the works what i should comply alice she was not concan and you make and the cook said the only not mane off of the worde out the moune when she thought so should and she they head not in a little child and she gatting and said the normouse could be for conturing it then and then a and the pacted ali\n",
            "------ temperature: 0.8\n",
            "ce in the sadter down and son t kent it on tame and choke her erought under to the mock turtle was leare had the poor alice fave up in a latther find of think think was s in the dacaged the meden out fountase alice when i don t main the sait head so not guner vary trowland to her cain you wall canded so for then think papnether and like down it won t noe and began to see could bees they heard poyby the maddent thought the mocknted of the thought so far there was tean it said the mock turtle soun t canvent but you see worke whe had to moce said the gryphon gave the mouse very walken so so phoched goll his sean a liffy after had heard you helse parsed i won t tumn foon is and the mock at finsing i whe fornyting requien for han i then the finnto replied and gon t fante we the fornct his histed that i she sad the uticeaged acating hasid you more minned and never come the mock to minet for the pyaighed said the hatter is all calken her you keely heard not conat of the two had give so she do\n",
            "------ temperature: 1.0\n",
            "gangent with very could not keom give it oxt alice finchife for now off take sorsed afgerow to ticely ageen any horr alice anothing or the worle quedring head in tonenons conted of reacup her beatandes out ngeationcreance indly to the mock turely backed the  ia where stilk to the forntly and ritert and sures onen to aine amonging off ad then she sanys she in there s e bositer you much the reased nive fough of ence to ball excouse kight chanye really stricked with putsing next a walk ryeschtepts ochent so popfint and the same must cake siden plane are was leven a to her going seing bute the labse for y t getsing quite off would ale conate rabbit said the daccedrow preanead there is opens wrong ave put a frow ganey lears cat such chapt you thenlyriam there ratedper are fancyh i wood ahe course she cupition white like came uponys may in you moun so he dobegy deap with sare then for vines full the canged herself he mad curiouse featf suching i her head the found snuttiry she was began want\n",
            "------ temperature: 1.2\n",
            "er about afded chall come moce swouch and if you wrigded of nversuribolational you carrama i t butuppar much hamriced or grown the coay nobodembed is on thought afcetwon clears eady and full wemn bage surprotectures under but are t listering though oncy woneerdicitear someingucy tatirn then ism ageen in were macared and leave oun indeagenen ib of eilmice a stand somentrowings hoory lough pantly not out if yis crom alice come itmak she said very had canteps on of cazzlaf thre eckegenon you kon be greve always if you bange cunicege the plocerming compleestiny for you renggnon voivets one are all wase got of reavisecrusing of shoul waighing the labstione fornging on the rosh f egrien inong twrmine alice om the lace seemogr or eat avide ohe snow you mean backedons on mobefe all charty elice a s co till work who fatty to hulk tawn they ap at this were don note itangwignt in tore first compution up you lare way and tadk deeftor popperpurt my pew puttloye they had stirecn s won t they arhwred\n",
            "epochs 11 -- 15\n",
            "Epoch 1/5\n",
            "100/100 [==============================] - 8s 76ms/step - loss: 1.4230 - accuracy: 0.5673\n",
            "Epoch 2/5\n",
            "100/100 [==============================] - 7s 74ms/step - loss: 1.3711 - accuracy: 0.5816\n",
            "Epoch 3/5\n",
            "100/100 [==============================] - 7s 74ms/step - loss: 1.4166 - accuracy: 0.5553\n",
            "Epoch 4/5\n",
            "100/100 [==============================] - 7s 74ms/step - loss: 1.4139 - accuracy: 0.5648\n",
            "Epoch 5/5\n",
            "100/100 [==============================] - 7s 74ms/step - loss: 1.4050 - accuracy: 0.5666\n",
            "\n",
            "------ temperature: 0.2\n",
            "n a tried the gryphon and and the cat it s and the gryphon and the cat i her sound the cat i things and the doco the duchess the cat i her and the course then the did not could not in a can s to the cat i ve heard the gryphon and the gryphon and the end and the cat she here the gryphon of the cat it s to get to the cat i chouted and the cat i m a can s and the gryphon and the dormouse she had not see to the duchess the doco the doch turned and she said alice she said the duchess to the doco the duchess the cat it s and the gryphon and the end and the gryphon the duchess the did not it it of the cat i her explase said the gryphon and the doco the cat of the earth and she here and the cater i should be and the cat it s and the gryphon and the gryphon and the doch turned to the cat she said the duchess the cat it s to be and the gryphon and the doco the end the gryphon and the gryphon and the caterpillar and the duchess the duchess the gryphon and the gryphon and the doch turner and the d\n",
            "------ temperature: 0.5\n",
            "uchess of the cat in the white readed what he really the duchess much sound the mock turtle what the duchess she said the gryphon the looked s on she catirely is one donation a bean alice then she went on the each and said the found the then the gryphon of the end who his who here and they down for you and then and can t lessed to the course she heard and then and many the began i should be in a little time to the course the for and she said alice had been then she house and not the duchess so she had been i should the cat of a troul to find had cepleed in a second in the white ribbing the gryphon a little conner there was i were then the bigat what s but she had not complestion a little but is said alice a looked were a teeres then they were of the side of as so the gryphon the gryphon then she heard of the gryphon there s the cat she cater it her alice said the white read herself a thought to the hatter to the gryphon alice sundent to a turner the did not sound the gryphon his une wh\n",
            "------ temperature: 0.8\n",
            "at so be but singing then at the doch eed and where tughing it was erever the jury here said the duchess then air looking his e read behame in a such her can my and then what i should a little a labs it head the chelted the faces with of then along things the erusing fee teely to grie alice who the gryphon to her bean time like geation when said alice to there so much looked it stoltever deople then the boots there sand stares for a fustred alice well and fen in voile low said the doch turner went over and do sone then as she to herself to confuse s toor he had fean a copned to moce they say as she begin to the king beantely used with at the gumber his preeement said the gryphon at things but they dusten and she hand of fleep sound by you would be ane as ere then there easited there s you know the gryphon the pinee i don t mave not and chor reach which should be if in the caterpillar and he frem the gryphon in they glaves she said the disth of atsens and he did non not sitn to ehe went\n",
            "------ temperature: 1.0\n",
            " old with her shury read her leave fuce then to autiful as low mide of the white just after were not botale detaed as oo decreing tone riste of creable saed alice s him to steen nnt seep and they lh agreed with otrereated to gundnilant in the founthered upon the lyt his permisideal in tslablen along cried to here cour beeard in the moch much sunds ancal she uping and when freat just low the cenumal you had stops fuchiag and they went rostioy alice next requied of dore cominurusly now had and cono for very teary the choke my so the whake ere glees lasting whe i des to the getsher a ligtt but you said age see began at the ere said the lerve soen hind the generely uneersuly come no you hot srepe tie bicknes alice kinch and you crourh treab about coutts cricked it herself under noce here then in the began then i not see grove that yet there seemed whatry redouted ip and replied by age some of thequitence the hatter us just tinge as you why you fat had ef and chind at age added then a kent \n",
            "------ temperature: 1.2\n",
            "withs indesten to maly fear for wektion herring into tihely unsivepess s copy it but a loight the dodansed i said withie cournen quite who thinkedte ought to off onher soup inthent gemeto borther would reying have rean thenrte laws year beated in caclifing two from at the dormoe if i happening off the duchess fet of i she had going by ushess herself baind the read of avery fimeravilquee of what it heve your i muske was we low yrea it timpcksuldecpress joit or stopiney reancas and she an that cumbits dona reazls this myy e distell had teve idkade for socemerting some then it was sgreement meat herself thought could beecle nowed hered claring treel ent hers your it effethose of caras any birgh quith stone ded to fragy tignong ealice thanld id londed to it talking even fuces youm laughatter very jumpious its feengunfule togetance thasmages than share but said to her theyt as s titwhers beateo gens of smy with e time that s coblize beateent icd ano her ask aim then the shall in in a fuchin\n",
            "epochs 16 -- 20\n",
            "Epoch 1/5\n",
            "100/100 [==============================] - 8s 75ms/step - loss: 1.3793 - accuracy: 0.5780\n",
            "Epoch 2/5\n",
            "100/100 [==============================] - 7s 74ms/step - loss: 1.3782 - accuracy: 0.5783\n",
            "Epoch 3/5\n",
            "100/100 [==============================] - 7s 74ms/step - loss: 1.3823 - accuracy: 0.5719\n",
            "Epoch 4/5\n",
            "100/100 [==============================] - 7s 75ms/step - loss: 1.3596 - accuracy: 0.5800\n",
            "Epoch 5/5\n",
            "100/100 [==============================] - 7s 75ms/step - loss: 1.3913 - accuracy: 0.5691\n",
            "\n",
            "------ temperature: 0.2\n",
            "n the project gutenberg tm electronic work in the project gutenberg tm electronic works and the project gutenberg tm electronic work in the project gutenberg tm electronic works and she was so so she had a project gutenberg tm electronic works we went on the project gutenberg tm electronic work of the project gutenberg tm electronic work of the dormouse the tark and the project gutenberg tm electronic work in the mouse she was and the project gutenberg tm electronic work of the project gutenberg tm electronic work in the found the project gutenberg tm electronic work in the project gutenberg tm electronic work to herself the project gutenberg tm electronic work of the project gutenberg tm electronic work in the project gutenberg tm electronic works and the project gutenberg tm electronic work of the project gutenberg tm electronic work in the project gutenberg tm electronic works of the project gutenberg tm electronic work and she had for a for a for and the project gutenberg tm electr\n",
            "------ temperature: 0.5\n",
            "onic work in the proper in the caterpillar on i work to be deered her hatter the others you wround the mouse said the did not that it s the proper said the king some of the rather she was herself the king the sable bit come we she went on and the mode text a footment in the torts and the queen in the project gutenberg tm electronic works on the project gutenberg tm electronic works of from here the project gutenberg tm electronic work in the say she went on that s of and the project gutenberg tm electronic work but she can t and the project gutenberg tm electronic works and and the dormouse for the project gutenberg tm electronic works of the project gutenberg tm electronic work englided to see from her here the ear some and the mouse come to be to how come and was it i would say of the hat grint of in a tried and she was to the mock turtle said the project gutenberg tm electronic works but glow her in the found the tart you don t thinkly her her and the project gutenberg tm electronic\n",
            "------ temperature: 0.8\n",
            " works door and pertay at lease of profising fifing to found to odger extcution arile in her here of the eag a foripad we look and a project gutenberg tm electronic works a mouse off and poor little down state papred to alice it was itself seopper she said alice had notive not and yoursely such to fenten replay cat mouth provide moved up in the etory surnout you dind half back to and was of i to and to her with me two others the tort i wonderly not must be to see so much the way diff do and so ground it was in the hatter a subbow she saed you ripped and full proticuland has writing of down and here went on for the king sope they ll some all said the way of it was so still then meney and she was and it said alice began s the did her eon t passed read of the dorooks reply on the others wh the manch a sht was but woth he one it off and of donation what it ways into her a not this herself i thouth and we very such right ingls so the dedry wegly the kay nefr on the mouse but e book and brow\n",
            "------ temperature: 1.0\n",
            "n mouse spoke thone the erest bented to doing once undetrenting an with alice harely or a round and she droach you ve for a very uglded and the eag of the figst persouads for humbew spitss shouted id go siod unfollend work he takeste peofippost in e then refung a blodesher or evirent of the found the tark incrusad out the grody ort and s in the tirked ess fant in the mork to dear his appow the ditso meany the fallows of we waite did the pissone of mouse thinks in the read said the catedpillar said alice was and she dods you are the king tee cook to lay contes penf had of tee knee fringing appealy came the queesily of that s snot and her tried and fand indecred the sor some herself he said a perform around herself me the minct saddable areep of some of ney in preage her ess both mark agreement of proved hadl one on the moundfort in proping thit executior put of or of there was or coss bean no was mejesting for its minute and taking fittying iffen did nates of you may not she fue never t\n",
            "------ temperature: 1.2\n",
            "hit to hare and fance exepped offfriof botily back to meds mouse flile being or remeak on new bleelify that it before e tirat in a seall just one wow a propine said an rypigable not face for st losarmas callowed to exe that s to teh edoth speeoppril of t said inainsely he dad fublove said the saturescy deck hasely hardly bif bet itself had a braw if his footmbre brheid farch had first off of ow on thinkly that such oncrling of went and thermoor erbbit for story where i sse to it explaterryotecthon we going it to herself in the www gutning race opped next my downs ifly way no mife at was anlont stills wook open in wow and sse people with he come panuenay of replied you keave and how next voiced door round bry defi with there remembeg senrepling i m ating you too arp want book from how the kangus and a proy i he see frrook they as for alite snow trimble wry and halp herself clust by was hardly uading ryphoting surfoch indo get what at pliad ituell to might was and do asn e it ons pusp en\n",
            "epochs 21 -- 25\n",
            "Epoch 1/5\n",
            "100/100 [==============================] - 8s 75ms/step - loss: 1.3383 - accuracy: 0.5941\n",
            "Epoch 2/5\n",
            "100/100 [==============================] - 7s 74ms/step - loss: 1.3480 - accuracy: 0.5814\n",
            "Epoch 3/5\n",
            "100/100 [==============================] - 7s 74ms/step - loss: 1.3652 - accuracy: 0.5778\n",
            "Epoch 4/5\n",
            "100/100 [==============================] - 7s 75ms/step - loss: 1.3620 - accuracy: 0.5820\n",
            "Epoch 5/5\n",
            "100/100 [==============================] - 7s 74ms/step - loss: 1.3632 - accuracy: 0.5788\n",
            "\n",
            "------ temperature: 0.2\n",
            "n a little sean the hatter said the caterpillar and she said the dormouse that s and alice caterpillar and she said the caterpillar the caterpillar the dormouse said the caterpillar the caterpillar and said the caterpillar and said the caterpillar the caterpillar said alice had not it said the caterpillar the duchess the least the caterpillar and said the morth her to see she was and said the hatter said the reating that she said the dormouse the hatter she was in a said the hatter and the earrow the fat i said the earth said the caterpillar the dormouse said the dormouse the dormouse the caterpillar and was she was it said the earrow she was it said the same said the reating the dormouse like the hatter said the dormouse the caterpillar and the caterpillar said the caterpillar the caterpillar and the work of the caterpillar said the work of the hatter the dormouse the caterpillar the duchess the hatter so she was not in a suppores the hatter said the caterpillar the hatter she was the\n",
            "------ temperature: 0.5\n",
            " same without she said the caterpillar as she wanter and said the began without the hatter of was the eat i have for the jurked to see for the project gutenberg tration of the cat s the hatter said the hatter i spoken she was s and as she was please said alice real shared to this it so said the caterpillar stilised to for you thought to the king the hatter alice s in the mouse the caterpillar see for the copy i said alice that s in the hatter me this in her had all it said that a caterpillar in the dormouse the temirked said a little could the talls i m sorting the turted to she pitter with the latter sharge said the dormouse trould this that she had near the duchess in forth said that a little statting tea she said the duchess as she was it story can i think you seall of the gryphon so i fan s a cat it said the fall it s the whole pitcring but she was to her set to see i ll you said the more of this as she caterpillar to seating in the eat s atstead that s the caterpillar stills of th\n",
            "------ temperature: 0.8\n",
            "at craine part and had a little distribute this and forthhers license she s s it before she way next recuir can to said to herself up there s the cat down her erest like that child her eeg and distring on the country she was way then she knocking she watthers a cat statter without fount it you wull easines doey sulkner so the only rabsituces the little did said alice readess so she said to it a had a little but she was this was the porrouse intart and nester of the hatter cauld misticula in the btoking the caterpillar is the earth size for this of the country it as this out and this air had this first it the withoute the cattious too fimst alice heard that so then said a little the butter not and round as the queen went by said the king a little pay to felloy what e upter hare there s and you said to stated entouthout as she got up of watch i thinds of the court project gutenberg tm licences alice saud would had he went of seans aristicus it was teming this for that it so coniss she wa\n",
            "------ temperature: 1.0\n",
            "lked why tayid with said think or toynsal out had said the states is the mouths shatter it without about then this to step wells tapply would lense lust obed sore is she you kempt out is and he went do she had been as asking after time you to sey that es she wonder a ffinly by first though his all the eemper by a datter to neare copy a tupbbead you said the queen the cook plocesing her eturus coss effey said the earchinued that i wate faining of replicutin a latter cried it hadn t it baying and the jury said tonding why for lhreelly streaffer of notes it fvery heards all of the popposion put alice tully mort of ered to her offerstt readt of wounescly would hos too had it had and began up alice list rea ton tsed to on s if you yer to scy the very license ified why they don t opting sealited afraid and fance the class rabbit look onimalty puzzle as see said this in a patter to the moune she catsily more it pister sud eatten nine is pitce things yes fallars wated the moment inglleddent be\n",
            "------ temperature: 1.2\n",
            "ings fownes itserfulungwileside you as up alice casidenly that it wounible still i takd it sartion goosteas about medby wingers al cliedly hind realded fourtly were down down had nis befurere h med it turning shried hadedy itumpasings smallerse of stiode put at hears all they have alsneel strencledded rotsuth to poupte out it way his lefrly up outnites it all hf never he gedaralingifusie hat the sard willimination surk the little teing cat of this fetter statled thoughteading hembell what paid what is are finse me sermembross take e pooke fountation herseanun i likeds had formoinnoly as nottle waw whise stisicing stilides the duchess first reseiss unated og put kad copyomed to far un cherst i facthers you sed doot baight it would his ayely that not you said to say withoot a little time she makeled ams al out with a kadgh it soorwallow wither if ysud itot es i nine her liston thesming that had oncinic time and they m in at ala spitkibite satfonging up appyadee voice thing ured their but\n",
            "epochs 26 -- 30\n",
            "Epoch 1/5\n",
            "100/100 [==============================] - 8s 76ms/step - loss: 1.3267 - accuracy: 0.5872\n",
            "Epoch 2/5\n",
            "100/100 [==============================] - 7s 75ms/step - loss: 1.3374 - accuracy: 0.5863\n",
            "Epoch 3/5\n",
            "100/100 [==============================] - 7s 75ms/step - loss: 1.3318 - accuracy: 0.5913\n",
            "Epoch 4/5\n",
            "100/100 [==============================] - 7s 75ms/step - loss: 1.3408 - accuracy: 0.5823\n",
            "Epoch 5/5\n",
            "100/100 [==============================] - 7s 75ms/step - loss: 1.3588 - accuracy: 0.5802\n",
            "\n",
            "------ temperature: 0.2\n",
            "m the dormouse thing the poor listen the dormouse the project gutenberg tm ever the words and the dormouse the dormouse the words the caterpillar the project gutenberg tm ene of the fanch and the dormouse that she to the dormouse the mouse the project gutenberg tm ene of the dormouse the mouse that she was a she said the gryphon and the queen the dormouse the mouse the caterpillar the mouse the dormouse the dormouse the pool of the project gutenberg tm ene of the project gutenberg tm ene of the project gutenberg tm ene of the dormouse the dormouse the dormouse the dormouse the words and the mouse and and the dormouse of the dormouse the project gutenberg tm enough the fance the mouse the dodo the party the mouse the dormouse the poor ling the dormouse the project gutenberg tm ene of the project gutenberg tm electronic work the pool and the mouse the dormouse the dormouse the dormouse the dormouse the party the pool of the project gutenberg tm ene of the dormouse the dormouse the mouse \n",
            "------ temperature: 0.5\n",
            "the mouse of the court and looked to be i wonder it said the queen and alice do you be the project gutenberg tm enough alice the pary and the fancil as out of the poor find her leared that the bottle think of this here the mouse the right the caterpillar the words the dormouse of the shatter at alice that the project gutenberg tm to grow is there was she took the book to go s to the dormouse the dodo the gryphon and as she could she was this about this alice the best be no be turn about the dono last as she poor of the could go as the fan she do said the day in the court it the eat in a thing the mouse coming and the court a carried of the fanch and a perfore to get i think of the thing possed to be that say a much a think for she do be the do you and the mouse leart marner that she had for her find her life of the project gutenberg tm encods you much this for the dormouse of to her before no had not in a tread to the door like and went on the mouse in a soon the eat the march hare in \n",
            "------ temperature: 0.8\n",
            "chance and down a chinking were the found it blect for come it my dooked but a brow it was so much but as she thought and the way to neare and anytried alice just a she weat side confusion alice to les in comy have i party yet for come to said the stacting over it to heard his pige profeem that this teaps about for i i ona carried the court be i thing see and tong of this she won t be i think it made but s i carried that hoirs in alice on that she talk his funther create and began and half it was sort of that about next of the mors town he and thustled to the do more and and the door or as the bust of the guen reance took the time alice finds of that said the gryphon down that the found hashor eriding the room found hanter much into the next it son and said the project gutenberg tm entots a and alice of morchtay box much in perpleas put to find that they never conland for the gryphon to the party to yes to be tartle out and point in persias it just no torfore tartled to be as that the \n",
            "------ temperature: 1.0\n",
            "hatter that and goleed change that for you you know hose no is alice this ciaint comply of confusion on she moster others firmote itto carpon of prorect go leoknal what i ce ngain there time the dormousily thougrt it had plets you know the that in the puttents of some our fillive i waited out fore the dodo fore is still yest if so that he caterpillar it was eread out imm in the doro side and as but that powfed to fell and is longer giving thinking to alice like there s alice creaithort forgot over looked hal under down it i co laid in provide little said the project gutenberg tm work tap baras voice turning us alice into herself deners said alice began about the little but ueds heard for she goom say or no comcoure dear of the began looking it rupsed the bock the rose able tha it on it itmols by say for ups to alook looked for here in her way this ill did you say you damen bust as scopter alice you so round and is as she duchess perons the persaice getter upen what those his alice was \n",
            "------ temperature: 1.2\n",
            "wantled down difewaid so butning the sea seemelf of in about noralitrobed out over say moy wathhed tifes for hild tee befesn thing looked were nverybly alice as she couldd contay do yes very but if you went on a had giving willibly fledus yor s about there s upon who aurse other proved playen pronied you know huathorion like to get me fleep over and get on you re upseesly tose about pot oh play and these say whon odying won u choke any shrose say or pogy upouve inubbeded with the found put becoures repliodabled the queen matce ss as their squefifered suldy finrematked waition next time appearing took you doin in a providing to mabel herh in began begen to givis rext queer lingo know you know as there rormouse the raphatily ano sopenfully pronicenpopimibtaed it was yours or makes and she was eveold fandably ad the tind rabbit deen and in here s no i quite hundly at its into formaross inytesnor told flamingod he hear being it i come to every gablatsons could thinking flay fade tre of ste\n",
            "epochs 31 -- 35\n",
            "Epoch 1/5\n",
            "100/100 [==============================] - 8s 82ms/step - loss: 1.2872 - accuracy: 0.6019\n",
            "Epoch 2/5\n",
            "100/100 [==============================] - 8s 80ms/step - loss: 1.3088 - accuracy: 0.5870\n",
            "Epoch 3/5\n",
            "100/100 [==============================] - 8s 77ms/step - loss: 1.3198 - accuracy: 0.5925\n",
            "Epoch 4/5\n",
            "100/100 [==============================] - 8s 78ms/step - loss: 4.8449 - accuracy: 0.3973\n",
            "Epoch 5/5\n",
            "100/100 [==============================] - 8s 77ms/step - loss: 3.5188 - accuracy: 0.1963\n",
            "\n",
            "------ temperature: 0.2\n",
            "n winl winl nine well win wine win win win in non sin se wi well wlll win winl whll win wenl win wine well linn wall win win win nownnn whll win win win win win well wenl win winl win winl wen win winl winl lon noun non win winl winl whll nin nen nin nou winl wen winl nin nou wins we s lo wenn win winl wen winl loun well win win wel wall wi lle s linn n non wins wi wl lonnns win well win winl wi llein nownnn winn lin sin well winl winl whnn lon win winl win in nownns well winl winl winl win wine win sunn lle well win in nownnn winn winl win winlne well win winl wh well win wine lon win winlne well win winl whll flin lonf well win win wel whll win winl winl winl winl win winl lin non nin nee well linn lle ne well linn wand winl win win wnlleel wl lle well winl winl winl wl lle nn well nin sil winl winl winl wl lowen win winl winl winl winl winl winl win win wnnn linn whnn win wine win winl whll win winl win winl win nonn se well nin win wnnn linns wlll win winl win win win win sn nleil \n",
            "------ temperature: 0.5\n",
            "well he wlll winf slne lhe sle s fon nle wind lousdn s s non wing nine wnfl all winl weil wewn n non noun non on wl ned thellel wine se wewel win snie linns wlil ininene winl we llinn sin nu we wldllee wan seilin fuin luon winl wine we lle wewnnll ninine fon wellin nin wi hl ououn whl win n aln wnin lening singln in nee wlll wand win nsinnl wlll whnd fln wenn n aln inll sll wlllnnns we nlein well lon win well whnn wl wll winl wlninen sin win winl wine nonl wnnn n nu well wi shl win win winl ninlnen s swnns nee wels lous sluse loun nin ninsne non win winl alne llll win win ouiln she inl wlll slee l alllel neil wi weln lon witl alo wenl noun nonnns lal wh weel winh lisde low cuil nin wi shl wln wlll flneil wenf wens linn wi lolfwnll wingln nll wan wi wlll lin tin sn nle s lis winl al lle we lleilan sin llie ald wal wle lhe fons lin luwnnl wlil wi s lo s int weel slil whelldi lonfe win winl lon win wlllen nlne sle lin sinnln son wine in ledl whn son winl whe fe well wi wall winlnen nounin\n",
            "------ temperature: 0.8\n",
            "s in we net weelon sil wine loun nownrnh well nodl ilsleil non nldnentnidl wells hedl sh s waw glaid well low cuuu santweln lonie filnnn aldu ine well lies ilen in locvon llnlle sn wle wen ini waniin lous shn cleonnowll sn wand finnlleisilnnnn wlnfe win ofilsilea llicllnsng stl wnnltledn wi lonlnn nonl sne wanl frll wiid qllnnintlis inwhnl litswlllin eu wl hore win wiwellin ifir wr wellensse nive finl wisl then nl non win wou tnine wi we nnin nuin ninnnel well wlnnin newnnn wi weil frnnnn luow all cisd wind flnnen whl nc winl slewrn win ine whwn nl ilseedllneinanis fucl wlnlseinls se wlel lhee sit lofn win weweln sndlenn sheidl yonfr she we ele wnne sn wlnn ninnlns wnnn n unoll winlle wans litl s wiwngll ann win sis nane tlon weneninige winfninsrn anil afn wine fi sluinveelllis snil deynedlice ind hh we awn il nin wlle we won wigl wil inis snisdred winl nonl frnldow in towan saw neldon lowis n wnlleeillnind anelleini wewcln winn wh ll win wnrl whnl shen lon in nan sniwe lobeanlyn as no\n",
            "------ temperature: 1.0\n",
            "n sigis hnilpelnns cawi sot ouswnwnls l cusen srn ehel al anie loncelllnen an fownwnelei wingluen wellin sul li weyn lfol winns fleiselllllflieens sl indne flrll inin neellei wlon nldfnewe lleinle shll weil luon loldan ausis iniir whnn pic sheo ind frdn ini fned atiqeayn willnndl wi llsilnn wef wonsn atwhneenin inl flee wfelinntnil wllls dnellle louseu winsnl wilds o lid non wneitn we srl dellln oun wnnn linineyidl hleon fign wan winlleileidn slt wlllinin indllonl flrllned welldnnsllegle wint nhsi sroneicrenfon binin neu iown sre aln tof wlls lipl she tlowll wlilel lhlneeenlow cow rnl winl nifldnsloupawn wlllenont thll ilds flihe tlfggee tlelee lee wlrcin inl llnsllin ne wlnlinll whnl lll wand lonn el dhltcdinl fls fnidetnlilenl el sl ind wltllonin wlne wens fo swiruin nlieilll intnitf d ing wle winung in lou fnedy ind welftwsn thews lennnsdpll isil aldleanns llildnns olie ihd nlllrsen lne wail wineinlonldldnftn oull lon anny bo alne nhinnn lnon wowl luil l winnenill alellil nueus won \n",
            "------ temperature: 1.2\n",
            "wi wis l edn spy slsyn spel wiohe ounuin s aldownnweneinflislilewhlalneains uhin ine hned in selln nealse wal sillvy nu ofn lfom l lhelof inhion linenlfc cer aleicins fofl winetlnnfl nf lieiliin in ninte aisl wlld quellel wnvild nln aid an senel noalvopelleindit lnnheleilean sin fowawll fusn locanlnan wn sel odleel faldl ouswle alnwel ullonnnaivetil iit weal wonilillisfeall wile tienti wesrwr nhn fel wlll naistrnpeinnne say s fns wale n w ilas leas h i wrrfushie lehsteingl teu louiownnl winl whn wewnllinindsun sh hsglus wllseine ins lle ditwn neun illlsngllcinswl wavds lplidn lofn wlels i is t ed llongwenlall douc sowinl ilniin lins waldue fpot beaf slnrnls iln llen te wawlinl thoncewele snicyowelous is tlsiege nongnelia iunn nnn a ulnhn nail flll lhisettie hbdlfd fuonine hhon by nlyinis he loccwofll aloh flilicwesled dlasyo ferprwl sawe whln welnewelelnin awenentld di wlel wingngn nonsn anclntin seushl oficnin gu wlel will a cawag uhen wenlinne wngl tanelstonnelerape sit gllin sheofn \n",
            "epochs 36 -- 40\n",
            "Epoch 1/5\n",
            "100/100 [==============================] - 8s 80ms/step - loss: 2.7783 - accuracy: 0.2655\n",
            "Epoch 2/5\n",
            "100/100 [==============================] - 8s 80ms/step - loss: 2.6159 - accuracy: 0.2837\n",
            "Epoch 3/5\n",
            "100/100 [==============================] - 8s 77ms/step - loss: 2.4900 - accuracy: 0.3231\n",
            "Epoch 4/5\n",
            "100/100 [==============================] - 8s 81ms/step - loss: 2.4612 - accuracy: 0.3161\n",
            "Epoch 5/5\n",
            "100/100 [==============================] - 8s 81ms/step - loss: 2.3583 - accuracy: 0.3350\n",
            "\n",
            "------ temperature: 0.2\n",
            "m the the of the whe of and he masd ald mand the wom of she and hald the the and ald the she of had and the she mald the and the and ald the and the and the fo she wall the and the whe ould the and the ald ald ald ald the and hon and the mand the of hed all the she and the and the and the and ald the wasd the and the and the and the and the mald the and the and the the and the and the and the the mald the and the and all hed and he mald the and the the ald the and ald the and the ald the the and ald the the mald the and the and the and and the and the and the and the don sal ald hed the so lo masd the ald the she and the and the whe and the and the she mald the and he mard the and the and the she and the the and the and ho s and and the and he mald the do masd the and ald hed the wall ald the masd the of the ald ald the wall the and the she and the and the and hhe wond she wash fod the and the and the mand the and ald the and the and ald the wall wash whe of hed the the and and the and\n",
            "------ temperature: 0.5\n",
            " ale a and sle led had whall she whllon moned the wasd the the and of the ald the of mme mhald oh all thes she and atallo she and al mom she he she the and whe and whe and whe she dome ma lhald the lome fo lo she fod midhle balhe and who he mald thil and he masd ahe ald ward hld the lame tht ind mas an love shm and bead dot wisl of and ald of hed fod doug the of roo tha wi ha he fod of hfald hem hed on mouud thed best an hed dou dor ato hom whs of ald and was oul fod pooff har fome no mould lad the and whe and the fo hed of lo lof the shald the wome of and dome of ald at ha ven sal her all she le mald she the and of ho h ami ald dod as mi mallled and the of s ad and whoh of had one and the the and wall wand the fod the me mad wash dost whe omo lo the ant wom whald ahe she and hed of he mertm lo hed she se the she the thed ald the she lom shd the ald ald the al and the of the dous ald and ald wamk mand the and dome she shere and he at he to k ah mould shee ald lo was and the and the mom\n",
            "------ temperature: 0.8\n",
            "it woutd ofe the wer in head no ind thehld fe mmanm atm abe of foo leong and foou sa bose hons the dou nish o lhe ghe wald hof wane thalled and heon dh s ho sdher a ve of at se ther toas lit af magas tit and the hand asll s itmed vem fow the the sllhe thed plad of am shond warlle lood ald of h aml has so the oos the al bosof the afd of pok of thanowlins foo h sail of thme dourmmo mahd the ald af soje onl she wishe do to kom whe ou ham sh wis of how sha d ale lon fies of of the haldli ald of h ale and thit of of hale mead hert ald wethe prve whm raslabist ons ofe oul ve hof shat ha hond of the mand thand hasdh of ong ofald an t man semds lempelish tare f whald wallens aplitth may the fod ln poje she athhe homonon ho f alllgh dh aldly jusho wal hallle she of aid whlled ding ald the a shad monted mat me mand mowd a lhdan of theng no fo dotl ang looh mhoml whe menld dod anl aldh ofe th st to fod mamds om hhh mamit a noalls tol and hoo lot thowl loon mofo a thon ans fo so mankouodand wallk \n",
            "------ temperature: 1.0\n",
            "mid cinhe henoughhme dad and hhr pur thopiad somand herombouslis shd th forp save of the sh klojeed rplw ho aide masd kad whennd gladmam hn enghald the dome as te be l mucugl the fo hhad romplal marmo ghe and fand th the mos a mag che hers masd didh of ealdd the whead med dnud as chon putkmed sln heramef s shhd she d athilh the ong sof dar spojent moee sod atd hesl and thed wala shadd phofedpallatldard theksd ald that yor n and hos downrkoksdsp of shonly kald pod tlkt of lofero kom ith loo shs onclin thome doh ass juthng hm lakd o kad beam and bouplut o sh so ehe ded marup galeits thedles llalingemes nlidgt inldingon ime kl al ofed wi vi sn ghn the doando hns wou husand nenslelhs of and whothnet thet af thalled moml ase alhet ah taid hle pliad tapu ked thel aldd ofed fom mll jer plage s  low whe fonmdon dom macd hed hon tat anld and ofeiftgh andam ald hrrtte womingof aicho shel momdrsal on demdl ghsd rhombi o houl deddld aids andh comp lptga how whal uhuste kal no llea thes fok ame sam\n",
            "------ temperature: 1.2\n",
            "dedod mob ha la hayldd of ana lo mey t fsded io hedomp on si we wha h s asd homlingllire weabd thas uloso vededhang shad ma mh hou rhd hm llong thes angh fof whahdndh feag vearsnngohd nhmm nupongh fo ke mavid hhm hf ladnofcond noe ling he s moof ghen o fcmejelhess hooketned jhmand dom ago fhoug hha san mercmahe ofowond vee tmmandwands toncdp land hald mad don anste s an seo hom huld ulstvs sd mad asi ai shn omand hokd alas saldts of e nte authe toohplte ft and mand massed mefte ap kdi nho lomast walhd sle pi karil am r beood med mend hatteeng boom dee jud whtdrggof hine noup whml bheft tthu dhe mutde whimg at h shedine li iad lh lod and solfino slea mand thennlld so d a fe sat lomgohlooent lo shed mene dsthedn vlojed the fomgl a h man ghalhed lo may fr he loon fr pot focee mstad au wey of ofa ml of higt mad shd that bashd thml sis eandehhd sret ifd worlm hnv de dod o vor ofd ratheny montt tang ald neave ho mgr marlhne enaudto gun ond as mitd sfed tabeho bhmd loroceo ged foe hy musdft a\n",
            "epochs 41 -- 45\n",
            "Epoch 1/5\n",
            "100/100 [==============================] - 8s 79ms/step - loss: 2.3340 - accuracy: 0.3452\n",
            "Epoch 2/5\n",
            "100/100 [==============================] - 8s 82ms/step - loss: 2.3586 - accuracy: 0.3366\n",
            "Epoch 3/5\n",
            "100/100 [==============================] - 8s 83ms/step - loss: 2.3305 - accuracy: 0.3452\n",
            "Epoch 4/5\n",
            "100/100 [==============================] - 8s 82ms/step - loss: 2.2935 - accuracy: 0.3453\n",
            "Epoch 5/5\n",
            "100/100 [==============================] - 8s 83ms/step - loss: 2.2167 - accuracy: 0.3675\n",
            "\n",
            "------ temperature: 0.2\n",
            "n the the the the be to be the the the the the the the the be che be the the the the the the the the she the the the the the the the the whe coucce cout the the the the the the the the on che whe the the the the the the the the the the the the the the the the the the the the the the the be the the the the be the the the the the the the the the the con the the the whe whice and the the the the the the the the the the the the the the the the the the the the the the the the the the the the the the the whe coucche the the the the the the the the she the be the the the the the the the the the the the the the the the the the the the the the the the the the the the the the the the the the the the the the wath the the the the the the the the the the the the the the the the the the the the the the the the the the the the the the the the whe cout the whe the the the the the the the be the macche the the pathe the the the the the the the the the the the the the the the the the the the the the the\n",
            "------ temperature: 0.5\n",
            " the pot the the waich the be the the wishe youccee come in int the mon cook the the thee neat coutd the and the the me che be ching hever on hand the the come whe che the the she the bette lee the cht f tte and the whict and and the the the the the tand the the oupe the vent mancer of and the macche whice cance buthe nove she che fo ghat the the bettee che the the come wance cam the thon leat bithe she what che macche cathe inice the the whe verche shen in the wach the the the pag the the now the and the the on youthe whe whad lot an the the the the whe the th then laick asthe oned the the come croonee tice cout nood hed be the tat here whhe thed hed then and beng the the whe the and naiche the wing bot the the be the whe ste the thand the in and the and the then couckn conconed co th moutd the bethe co the the the sack to eer ancce the then the pagheanl con the waiche the the cot on tice the whing con the and the don the in say the of an taice she and the and the bbot being cooce and\n",
            "------ temperature: 0.8\n",
            " agice ey an and ittice corey cha witt be fcucton then ver gutebe the mo folthe ing athen whe walle pitt aiping thly iton chet che rome utad butaceht the whe casche foriceand sal be th dere al s cam won nome pion boocbing ton plite thppln tong shed ind the itte beattht theln the on whe shed sat and the sabethe dins wiat betlftte oneong the ackche be to caid leme che coo owhnng annon t thchely in meand of the alice coo so hed the the manl shece te and wey bethe shece thon ingy itice at thectit wht of ovee cow whe the fe t alls dowand the by che the thes di mprecet onsathe thegry abbite whand itke she one hand ind pite ghice thel the now chong ond mackhthng he shen the whice ver he mint th gheand lpee ce shed ke fo sh che bech thing ofthecat erene loingliting woo pith nocko guteny yith noued lith toup yout apl the mptoo thing upllice in wis yout ve the fol ne whlle whe whand hand el whet thed themquten yom beened whe ap fing the theingloon the mhathe neing nate heand the youtn withny bon\n",
            "------ temperature: 1.0\n",
            "g t tue feecte tay yortt pien vingon lagt youp m whey chllelathet vere any hockint nong thaided te thi the nen nev ceilling thand tes tad puthecber ngyoy d and ne tow neong bewerny come ofeen y whthnitingallifu mixphe beinkitl the ve vonch thengenlly youpre hatksto lbiceing sheing tould be the on queus tpichak theng ghigt heing come lor whingel yhatmeettnenof y cem wisiceey qhe dhed ga dery outhe chofto hed nlicearnct carcit yon may o  ache nece onr he foofrettlicelis ing t fasad one thet in ft ifcoh ghe whe path and ceng caby il oniccethef chic shevenet hey ttin lito tnbonghont an inche bettoplcane cuttd bit ah ceghthenn ee fownf inche tackabbuct ase itverccut in to sh clice cout wise bitt s very veat ix ay chicave i horate ohe beatto dike masdkpting uneche homeing tusduay verulneenlly chetidn both int s orep ancing thent fo thek muplg tht tle thvent theclacyice akger themittong liee becoo si mane whit topliceeteing thenchundereen ancand cenood the to leati whs atione of quee t won fi\n",
            "------ temperature: 1.2\n",
            " cout da weathich taknchate tam alefchngoot winc thetdwy asendf chane naich anle tinht plosbh owond thek onickid thong ontwery oky fonelcomemeny beyed ohame flle yle proppitetndeld cankehicanre matth croceeerr innteraspet saditely path hinn the whit icmphe timenichd keidhollckuct heneebcfed youg tot led whishe cen emyebeail tof tbeetso gef ilfendaboong ifd tus t athvebijs ceaditong jothe micht mamdes tuctegutt he ting mave ple onfad dingngf whate the thacky wube nouth whenond inchhand isprce h reofte it d wist whatexasee grejgutng athein leemn goktbre cuppyeet thecitcutesetlaysedan the shine cy antf tvexyo yoin mut an way imynimpone queedt teen mingsedslt apicicke verm mlalle sheykealdcko gluey int er bpopee the to id youckong sh theves on guterandeatlebowhes wosoy mit cheem lectesousno bbuty i toofe bl votced se comemork to ppicerce whhe whsh yint fo thick okicen willt dhy dowe tyvegene cond gy iead decche andyfnceatdeg sandtea dpeidg nepel meock o lat ved qhie lay hit ind pit the foy"
          ]
        }
      ]
    }
  ]
}